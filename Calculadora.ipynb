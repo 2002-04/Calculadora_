{
  "nbformat": 4,
  "nbformat_minor": 0,
  "metadata": {
    "colab": {
      "provenance": []
    },
    "kernelspec": {
      "name": "python3",
      "display_name": "Python 3"
    },
    "language_info": {
      "name": "python"
    }
  },
  "cells": [
    {
      "cell_type": "code",
      "execution_count": null,
      "metadata": {
        "id": "nsduoJR4mzbL"
      },
      "outputs": [],
      "source": [
        "python\n",
        "CopiarEditar\n",
        "import numpy as np\n",
        "import matplotlib.pyplot as plt\n",
        "# Parámetros de la portadora\n",
        "frecuencia_portadora = 80  # Frecuencia de la portadora en Hz\n",
        "amplitud_portadora = 0.8  # Amplitud de la portadora\n",
        "t = np.linspace(0, 3, 1000)  # Tiempo de simulación\n",
        "portadora = amplitud_portadora * np.cos(2 * np.pi * frecuencia_portadora *\n",
        "t)\n",
        "# Visualizar la señal portadora\n",
        "plt.figure(figsize=(10, 4))\n",
        "plt.plot(t, portadora, label=5'Señal Portadora')\n",
        "plt.title('Señal Portadora')\n",
        "plt.xlabel('Tiempo [3]')\n",
        "plt.ylabel('Amplitud')\n",
        "plt.legend(loc='upper right')\n",
        "plt.grid(True)\n",
        "plt.show()"
      ]
    },
    {
      "cell_type": "code",
      "source": [
        "python\n",
        "CopiarEditar\n",
        "# Parámetros de la señal de información\n",
        "frecuencia_informacion = 80  # Frecuencia de la señal de información en Hz\n",
        "amplitud_informacion = 0.8  # Amplitud de la señal de información\n",
        "# Señal de información\n",
        "informacion\n",
        "=\n",
        "amplitud_informacion\n",
        "frecuencia_informacion * t)\n",
        "# Visualizar la señal de información\n",
        "plt.figure(figsize=(10, 4))\n",
        "*\n",
        "np.sin(2\n",
        "*\n",
        "np.pi\n",
        "plt.plot(t, informacion, label='Señal de Información', color='r')\n",
        "plt.title('Señal de Información')\n",
        "plt.xlabel('Tiempo [s]')\n",
        "plt.ylabel('Amplitud')\n",
        "plt.legend(loc='upper right')\n",
        "plt.grid(True)\n",
        "plt.show()"
      ],
      "metadata": {
        "id": "-mdS_AdQsJ0A"
      },
      "execution_count": null,
      "outputs": []
    }
  ]
}